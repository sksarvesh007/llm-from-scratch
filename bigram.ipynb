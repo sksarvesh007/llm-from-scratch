{
 "cells": [
  {
   "cell_type": "code",
   "execution_count": 1,
   "metadata": {},
   "outputs": [
    {
     "name": "stdout",
     "output_type": "stream",
     "text": [
      "228251\n"
     ]
    }
   ],
   "source": [
    "with open('wizard_of_oz.txt' , 'r' , encoding='utf-8') as f :\n",
    "    text = f.read()\n",
    "print(len(text))\n"
   ]
  },
  {
   "cell_type": "code",
   "execution_count": 2,
   "metadata": {},
   "outputs": [
    {
     "name": "stdout",
     "output_type": "stream",
     "text": [
      "LIST OF CHAPTERS\n",
      "\n",
      "\n",
      "CHAPTER                                                             PAGE\n",
      "\n",
      "  1 THE EARTHQUAKE                                                      13\n",
      "\n",
      "  2  THE GLASS CITY           \n"
     ]
    }
   ],
   "source": [
    "print(text[:200])"
   ]
  },
  {
   "cell_type": "code",
   "execution_count": 3,
   "metadata": {},
   "outputs": [
    {
     "name": "stdout",
     "output_type": "stream",
     "text": [
      "['\\n', ' ', '!', '\"', '&', \"'\", '(', ')', ',', '-', '.', '0', '1', '2', '3', '4', '5', '6', '7', '8', '9', ':', ';', '?', 'A', 'B', 'C', 'D', 'E', 'F', 'G', 'H', 'I', 'J', 'K', 'L', 'M', 'N', 'O', 'P', 'Q', 'R', 'S', 'T', 'U', 'V', 'W', 'X', 'Y', 'Z', '[', ']', '_', 'a', 'b', 'c', 'd', 'e', 'f', 'g', 'h', 'i', 'j', 'k', 'l', 'm', 'n', 'o', 'p', 'q', 'r', 's', 't', 'u', 'v', 'w', 'x', 'y', 'z', '\\ufeff']\n"
     ]
    }
   ],
   "source": [
    "chars = sorted(set(text))\n",
    "print(chars)"
   ]
  },
  {
   "cell_type": "code",
   "execution_count": 4,
   "metadata": {},
   "outputs": [],
   "source": [
    "string_to_int = {c:i for i,c in enumerate(chars)}\n",
    "int_to_string = {i:c for i,c in enumerate(chars)}\n",
    "encode = lambda s : [string_to_int[c] for c in s] \n",
    "decode = lambda x : ''.join([int_to_string[i] for i in x])"
   ]
  },
  {
   "cell_type": "code",
   "execution_count": 5,
   "metadata": {},
   "outputs": [
    {
     "data": {
      "text/plain": [
       "[60, 57, 64, 64, 67]"
      ]
     },
     "execution_count": 5,
     "metadata": {},
     "output_type": "execute_result"
    }
   ],
   "source": [
    "encode('hello')"
   ]
  },
  {
   "cell_type": "code",
   "execution_count": 6,
   "metadata": {},
   "outputs": [
    {
     "data": {
      "text/plain": [
       "'hello'"
      ]
     },
     "execution_count": 6,
     "metadata": {},
     "output_type": "execute_result"
    }
   ],
   "source": [
    "decode([60, 57, 64, 64, 67])"
   ]
  },
  {
   "cell_type": "code",
   "execution_count": 7,
   "metadata": {},
   "outputs": [
    {
     "data": {
      "text/plain": [
       "[67, 63, 1, 55, 67, 65, 68, 73, 72, 57, 70]"
      ]
     },
     "execution_count": 7,
     "metadata": {},
     "output_type": "execute_result"
    }
   ],
   "source": [
    "encoded_word = encode('ok computer')\n",
    "encoded_word"
   ]
  },
  {
   "cell_type": "code",
   "execution_count": 8,
   "metadata": {},
   "outputs": [],
   "source": [
    "import torch\n",
    "data = torch.tensor(encode(text) , dtype=torch.long)"
   ]
  },
  {
   "cell_type": "code",
   "execution_count": 9,
   "metadata": {},
   "outputs": [
    {
     "data": {
      "text/plain": [
       "182600"
      ]
     },
     "execution_count": 9,
     "metadata": {},
     "output_type": "execute_result"
    }
   ],
   "source": [
    "n = int(0.8*len(data))\n",
    "n"
   ]
  },
  {
   "cell_type": "code",
   "execution_count": 10,
   "metadata": {},
   "outputs": [],
   "source": [
    "train_data = data[:n]\n",
    "val_data = data[n:]"
   ]
  },
  {
   "cell_type": "code",
   "execution_count": 11,
   "metadata": {},
   "outputs": [
    {
     "name": "stdout",
     "output_type": "stream",
     "text": [
      "when the context is tensor([], dtype=torch.int64) and the target is 35\n",
      "when the context is tensor([79]) and the target is 32\n",
      "when the context is tensor([79, 35]) and the target is 42\n",
      "when the context is tensor([79, 35, 32]) and the target is 43\n",
      "when the context is tensor([79, 35, 32, 42]) and the target is 1\n",
      "when the context is tensor([79, 35, 32, 42, 43]) and the target is 38\n",
      "when the context is tensor([79, 35, 32, 42, 43,  1]) and the target is 29\n",
      "when the context is tensor([79, 35, 32, 42, 43,  1, 38]) and the target is 1\n"
     ]
    }
   ],
   "source": [
    "block_size = 8\n",
    "x = train_data[:block_size]\n",
    "y = train_data[1:block_size+1]\n",
    "\n",
    "for t in range(block_size):\n",
    "    context = x[:t]\n",
    "    target = y[t]\n",
    "    print(f'when the context is {context} and the target is {target}')"
   ]
  },
  {
   "cell_type": "code",
   "execution_count": 12,
   "metadata": {},
   "outputs": [],
   "source": [
    "batch_size = 4\n"
   ]
  },
  {
   "cell_type": "code",
   "execution_count": 13,
   "metadata": {},
   "outputs": [
    {
     "data": {
      "text/plain": [
       "(tensor([[57,  1, 72, 60, 57,  1, 54, 57],\n",
       "         [57, 63, 53,  1, 65, 53, 56, 57],\n",
       "         [58, 72, 57, 70,  1, 53,  1, 64],\n",
       "         [70, 53, 61, 56,  1, 67, 58,  8]]),\n",
       " tensor([[ 1, 72, 60, 57,  1, 54, 57, 53],\n",
       "         [63, 53,  1, 65, 53, 56, 57,  1],\n",
       "         [72, 57, 70,  1, 53,  1, 64, 67],\n",
       "         [53, 61, 56,  1, 67, 58,  8,  3]]))"
      ]
     },
     "execution_count": 13,
     "metadata": {},
     "output_type": "execute_result"
    }
   ],
   "source": [
    "def get_batch(split):\n",
    "    if split == 'train':\n",
    "        data = train_data\n",
    "    else:\n",
    "        data = val_data\n",
    "    ix = torch.randint(len(data) - block_size, (batch_size,))\n",
    "    x = torch.stack([data[i:i+block_size] for i in ix])\n",
    "    y = torch.stack([data[i+1:i+block_size+1] for i in ix])\n",
    "    return x,y\n",
    "\n",
    "x,y = get_batch('train')\n",
    "x,y"
   ]
  },
  {
   "cell_type": "code",
   "execution_count": 14,
   "metadata": {},
   "outputs": [],
   "source": [
    "import torch.nn as nn\n",
    "import torch.nn.functional as F\n",
    "device = 'cuda' if torch.cuda.is_available() else 'cpu'\n",
    "vocab_size = len(chars)\n",
    "class BigramLanguageModel(nn.Module):\n",
    "    def __init__(self, vocab_size):\n",
    "        super().__init__()\n",
    "        self.token_embedding_table = nn.Embedding(vocab_size, vocab_size)\n",
    "        \n",
    "    def forward(self, index, targets=None):\n",
    "        logits = self.token_embedding_table(index)\n",
    "        \n",
    "        \n",
    "        if targets is None:\n",
    "            loss = None\n",
    "        else:\n",
    "            B, T, C = logits.shape\n",
    "            logits = logits.view(B*T, C)\n",
    "            targets = targets.view(B*T)\n",
    "            loss = F.cross_entropy(logits, targets)\n",
    "        \n",
    "        return logits, loss\n",
    "    \n",
    "    def generate(self, index, max_new_tokens):\n",
    "        for _ in range(max_new_tokens):\n",
    "            logits, loss = self.forward(index)\n",
    "            logits = logits[:, -1, :] \n",
    "            probs = F.softmax(logits, dim=-1) \n",
    "            index_next = torch.multinomial(probs, num_samples=1) \n",
    "            index = torch.cat((index, index_next), dim=1) \n",
    "        return index\n",
    "\n",
    "model = BigramLanguageModel(vocab_size)\n",
    "m = model.to(device)"
   ]
  },
  {
   "cell_type": "code",
   "execution_count": 15,
   "metadata": {},
   "outputs": [
    {
     "name": "stdout",
     "output_type": "stream",
     "text": [
      "\n",
      "gL3adpGKeBx[-w'.2mi Jn3U!Z8uTgF3TbL\"(U!rreYjuY:Z?Nd,mt(I8g,3\n",
      "x]swQ5;sF4kvAxX9u]U8NfwXw'MU!-WzHca:t!OR[ngUI7p2\n",
      "[ycFySs2JGu0n9EzH4F6aIgVjL4kLV26K_Pv,]ne-sGFYERj-6Bvna﻿uHMyWq_.M!]UDbDmW1Ay6vtiTx8uHwIPMUf)yox]m[Xn[b41D;Z?Q4kYGQ4dgqXHSG(kNu-N &K4qL4LUGi\n",
      "0t.hbL(p5NYZudHT8tF[zdS.dh?sAPXx8&fqbdkNG_MqxARVR\"othnD?\n",
      "4FPs.MeN﻿DZ'Wk-SRHE\n",
      "XL0ycblLpPsq9﻿wljq1JZ.eQ]MvwO1RC!rt[ :2kIwdSHD[K\n",
      "D'42k\"cx:7P8Vy:?mj:yrut]Rd8KrrjqtYSP8Ke8RL3SUgzJep;j:P5F1[3E\n",
      "D[3x\n",
      "0qVc&L\"cU&I﻿1mW.)IY)]pN_M2kJ!1BNQPMk;79x'j.SHX[66eeyKB,p4m4\n"
     ]
    }
   ],
   "source": [
    "context = torch.zeros((1,1), dtype=torch.long, device=device)\n",
    "generated_chars = decode(m.generate(context, max_new_tokens=500)[0].tolist())\n",
    "print(generated_chars)\n"
   ]
  },
  {
   "cell_type": "code",
   "execution_count": 18,
   "metadata": {},
   "outputs": [
    {
     "name": "stdout",
     "output_type": "stream",
     "text": [
      "step : 0 | train loss : 4.896011829376221 | validation loss : 4.892610549926758\n",
      "step : 1000 | train loss : 4.6411895751953125 | validation loss : 4.643209934234619\n",
      "step : 2000 | train loss : 4.409542083740234 | validation loss : 4.421180248260498\n",
      "step : 3000 | train loss : 4.214519500732422 | validation loss : 4.217954158782959\n",
      "step : 4000 | train loss : 4.030304908752441 | validation loss : 4.0371198654174805\n",
      "step : 5000 | train loss : 3.8509159088134766 | validation loss : 3.8579154014587402\n",
      "step : 6000 | train loss : 3.710740327835083 | validation loss : 3.7031543254852295\n",
      "step : 7000 | train loss : 3.538269519805908 | validation loss : 3.564873218536377\n",
      "step : 8000 | train loss : 3.420499324798584 | validation loss : 3.441255569458008\n",
      "step : 9000 | train loss : 3.321782112121582 | validation loss : 3.338127374649048\n",
      "3.2182905673980713\n"
     ]
    }
   ],
   "source": [
    "\n",
    "learning_rate = 3e-4\n",
    "max_iters = 10000\n",
    "optimiser = torch.optim.AdamW(params=model.parameters() , lr=learning_rate)\n",
    "for iter in (range(max_iters)):\n",
    "    if iter % eval_iters ==0:\n",
    "        losses = estimate_loss()\n",
    "        print(f\"step : {iter} | train loss : {losses['train']} | validation loss : {losses['val']}\")\n",
    "    xb ,yb = get_batch('train')\n",
    "    \n",
    "    logits , loss = model.forward(xb ,yb)\n",
    "    optimiser.zero_grad(set_to_none=True)\n",
    "    loss.backward()\n",
    "    optimiser.step()\n",
    "print(loss.item())"
   ]
  },
  {
   "cell_type": "code",
   "execution_count": null,
   "metadata": {},
   "outputs": [
    {
     "name": "stdout",
     "output_type": "stream",
     "text": [
      "\n",
      "\" tunothe to _j-r ad injuse he ng!\n",
      "\n",
      "thtoond \"I thouroavey tyowast!9whe\n",
      "\n",
      "owioulem.\"DAp thetoske irie meapanderid the\n",
      "he t\n",
      " dorese headared t othy WL izars\n",
      "AHKKnd  cusinorsee ofe urte bey ss nce therat.\n",
      "\"SIGEXGaroow a w sus a te I \"L4?ckn'be cr iey  isksod achaupled\n",
      "s l chizshes ed os the aid sere  c sqbeqqqut sar pananoow his ad nved ve n mandie r mar athur, 're ce elekend ppant pllord a t, re.\n",
      "\n",
      "\"\n",
      "Whong\n",
      "\" olan-s w iplcorllom Pr\n",
      "\n",
      "basen'CAL9if the AJis?-wlecke Wembed,\"YTh tth VEut wnieng,\"\n",
      "llieind \n"
     ]
    }
   ],
   "source": [
    "context = torch.zeros((1,1), dtype=torch.long, device=device)\n",
    "generated_chars = decode(m.generate(context, max_new_tokens=500)[0].tolist())\n",
    "print(generated_chars)"
   ]
  },
  {
   "cell_type": "code",
   "execution_count": 17,
   "metadata": {},
   "outputs": [],
   "source": [
    "eval_iters = 1000\n",
    "@torch.no_grad()\n",
    "def estimate_loss():\n",
    "    out ={}\n",
    "    model.eval()\n",
    "    for split in ['train' , 'val']:\n",
    "        losses = torch.zeros(eval_iters)\n",
    "        for k in range(eval_iters):\n",
    "            X, Y = get_batch(split)\n",
    "            logits, loss = model(X,Y)\n",
    "            losses[k]=loss.item()\n",
    "        out[split] = losses.mean()\n",
    "    model.train()\n",
    "    return out"
   ]
  },
  {
   "cell_type": "code",
   "execution_count": null,
   "metadata": {},
   "outputs": [],
   "source": []
  }
 ],
 "metadata": {
  "kernelspec": {
   "display_name": "Python 3",
   "language": "python",
   "name": "python3"
  },
  "language_info": {
   "codemirror_mode": {
    "name": "ipython",
    "version": 3
   },
   "file_extension": ".py",
   "mimetype": "text/x-python",
   "name": "python",
   "nbconvert_exporter": "python",
   "pygments_lexer": "ipython3",
   "version": "3.11.6"
  }
 },
 "nbformat": 4,
 "nbformat_minor": 2
}
