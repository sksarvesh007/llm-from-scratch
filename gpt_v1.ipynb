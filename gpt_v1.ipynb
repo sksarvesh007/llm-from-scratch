{
 "cells": [
  {
   "cell_type": "code",
   "execution_count": 1,
   "metadata": {},
   "outputs": [],
   "source": [
    "import torch \n",
    "import torch.nn as nn \n",
    "from torch.nn import functional as F"
   ]
  },
  {
   "cell_type": "code",
   "execution_count": 9,
   "metadata": {},
   "outputs": [],
   "source": [
    "block_size = 8 \n",
    "batch_size = 4 \n",
    "max_iters =10000\n",
    "learning_rate = 3e-3\n",
    "eval_iters = 250\n",
    "n_embed = 384\n",
    "n_layer = 4"
   ]
  },
  {
   "cell_type": "code",
   "execution_count": 4,
   "metadata": {},
   "outputs": [],
   "source": [
    "with open('wizard_of_oz.txt' , 'r' , encoding='utf-8') as f :\n",
    "    text = f.read()\n",
    "chars = sorted(set(text))\n",
    "vocal_size = len(chars)"
   ]
  },
  {
   "cell_type": "code",
   "execution_count": 5,
   "metadata": {},
   "outputs": [],
   "source": [
    "string_to_int = {c:i for i,c in enumerate(chars)}\n",
    "int_to_string = {i:c for i,c in enumerate(chars)}\n",
    "encode = lambda s : [string_to_int[c] for c in s] \n",
    "decode = lambda x : ''.join([int_to_string[i] for i in x])\n",
    "data = torch.tensor(encode(text) , dtype=torch.long)"
   ]
  },
  {
   "cell_type": "code",
   "execution_count": 6,
   "metadata": {},
   "outputs": [],
   "source": [
    "n = int(0.8*len(data))\n",
    "train_data = data[:n]\n",
    "val_data = data[n:]\n",
    "def get_batch(split):\n",
    "    if split == 'train':\n",
    "        data = train_data\n",
    "    else:\n",
    "        data = val_data\n",
    "    ix = torch.randint(len(data) - block_size, (batch_size,))\n",
    "    x = torch.stack([data[i:i+block_size] for i in ix])\n",
    "    y = torch.stack([data[i+1:i+block_size+1] for i in ix])\n",
    "    return x,y\n",
    "\n",
    "x,y = get_batch('train')"
   ]
  },
  {
   "cell_type": "code",
   "execution_count": 7,
   "metadata": {},
   "outputs": [],
   "source": [
    "eval_iters = 1000\n",
    "@torch.no_grad()\n",
    "def estimate_loss():\n",
    "    out ={}\n",
    "    model.eval()\n",
    "    for split in ['train' , 'val']:\n",
    "        losses = torch.zeros(eval_iters)\n",
    "        for k in range(eval_iters):\n",
    "            X, Y = get_batch(split)\n",
    "            logits, loss = model(X,Y)\n",
    "            losses[k]=loss.item()\n",
    "        out[split] = losses.mean()\n",
    "    model.train()\n",
    "    return out"
   ]
  },
  {
   "cell_type": "code",
   "execution_count": null,
   "metadata": {},
   "outputs": [],
   "source": [
    "class gptlanguagemodel(nn.Module):\n",
    "    def __init__(self , vocal_size):\n",
    "        super().__init__()\n",
    "        self.token_embedding_table = nn.Embedding(vocal_size , n_embed)\n",
    "        self.position_embedding_table = nn.Embedding(block_size , n_embed)\n",
    "        self.blocks = nn.Sequential(*[Block(n_embed , n_head=n_head ) for _ in range(n_layer)])\n",
    "        \n",
    "        self.ln_f = nn.LayerNorm(n_embed)\n",
    "        self.lm_head = nn.Linear(n_embed , vocal_size)\n",
    "        "
   ]
  }
 ],
 "metadata": {
  "kernelspec": {
   "display_name": "Python 3",
   "language": "python",
   "name": "python3"
  },
  "language_info": {
   "codemirror_mode": {
    "name": "ipython",
    "version": 3
   },
   "file_extension": ".py",
   "mimetype": "text/x-python",
   "name": "python",
   "nbconvert_exporter": "python",
   "pygments_lexer": "ipython3",
   "version": "3.11.6"
  }
 },
 "nbformat": 4,
 "nbformat_minor": 2
}
